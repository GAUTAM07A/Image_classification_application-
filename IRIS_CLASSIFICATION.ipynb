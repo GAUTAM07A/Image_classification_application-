{
 "cells": [
  {
   "cell_type": "code",
   "execution_count": 1,
   "id": "bedbc16b-8d9d-430b-bbc7-938290cdd72e",
   "metadata": {},
   "outputs": [],
   "source": [
    "# Import required libraries\n",
    "import numpy as np\n",
    "import pandas as pd\n",
    "import matplotlib.pyplot as plt\n",
    "import seaborn as sns\n",
    "import pickle \n",
    "\n",
    "from sklearn.datasets import load_iris\n",
    "from sklearn.preprocessing import LabelEncoder\n",
    "from sklearn.model_selection import train_test_split, cross_val_score\n",
    "from sklearn.ensemble import RandomForestClassifier\n",
    "from sklearn.metrics import accuracy_score, classification_report, confusion_matrix"
   ]
  },
  {
   "cell_type": "code",
   "execution_count": 2,
   "id": "44bb9598-c47c-4829-a14b-c1088b171590",
   "metadata": {},
   "outputs": [
    {
     "data": {
      "text/html": [
       "<div>\n",
       "<style scoped>\n",
       "    .dataframe tbody tr th:only-of-type {\n",
       "        vertical-align: middle;\n",
       "    }\n",
       "\n",
       "    .dataframe tbody tr th {\n",
       "        vertical-align: top;\n",
       "    }\n",
       "\n",
       "    .dataframe thead th {\n",
       "        text-align: right;\n",
       "    }\n",
       "</style>\n",
       "<table border=\"1\" class=\"dataframe\">\n",
       "  <thead>\n",
       "    <tr style=\"text-align: right;\">\n",
       "      <th></th>\n",
       "      <th>sepal length (cm)</th>\n",
       "      <th>sepal width (cm)</th>\n",
       "      <th>petal length (cm)</th>\n",
       "      <th>petal width (cm)</th>\n",
       "      <th>Species</th>\n",
       "    </tr>\n",
       "  </thead>\n",
       "  <tbody>\n",
       "    <tr>\n",
       "      <th>0</th>\n",
       "      <td>5.1</td>\n",
       "      <td>3.5</td>\n",
       "      <td>1.4</td>\n",
       "      <td>0.2</td>\n",
       "      <td>setosa</td>\n",
       "    </tr>\n",
       "    <tr>\n",
       "      <th>1</th>\n",
       "      <td>4.9</td>\n",
       "      <td>3.0</td>\n",
       "      <td>1.4</td>\n",
       "      <td>0.2</td>\n",
       "      <td>setosa</td>\n",
       "    </tr>\n",
       "    <tr>\n",
       "      <th>2</th>\n",
       "      <td>4.7</td>\n",
       "      <td>3.2</td>\n",
       "      <td>1.3</td>\n",
       "      <td>0.2</td>\n",
       "      <td>setosa</td>\n",
       "    </tr>\n",
       "    <tr>\n",
       "      <th>3</th>\n",
       "      <td>4.6</td>\n",
       "      <td>3.1</td>\n",
       "      <td>1.5</td>\n",
       "      <td>0.2</td>\n",
       "      <td>setosa</td>\n",
       "    </tr>\n",
       "    <tr>\n",
       "      <th>4</th>\n",
       "      <td>5.0</td>\n",
       "      <td>3.6</td>\n",
       "      <td>1.4</td>\n",
       "      <td>0.2</td>\n",
       "      <td>setosa</td>\n",
       "    </tr>\n",
       "  </tbody>\n",
       "</table>\n",
       "</div>"
      ],
      "text/plain": [
       "   sepal length (cm)  sepal width (cm)  petal length (cm)  petal width (cm)  \\\n",
       "0                5.1               3.5                1.4               0.2   \n",
       "1                4.9               3.0                1.4               0.2   \n",
       "2                4.7               3.2                1.3               0.2   \n",
       "3                4.6               3.1                1.5               0.2   \n",
       "4                5.0               3.6                1.4               0.2   \n",
       "\n",
       "  Species  \n",
       "0  setosa  \n",
       "1  setosa  \n",
       "2  setosa  \n",
       "3  setosa  \n",
       "4  setosa  "
      ]
     },
     "execution_count": 2,
     "metadata": {},
     "output_type": "execute_result"
    }
   ],
   "source": [
    "iris = load_iris()\n",
    "df = pd.DataFrame(data=iris.data, columns=iris.feature_names)\n",
    "df['Species'] = pd.Categorical.from_codes(iris.target, iris.target_names)\n",
    "\n",
    "df.head()"
   ]
  },
  {
   "cell_type": "code",
   "execution_count": 3,
   "id": "e86c50eb-375e-4ee7-bece-ebb763f8ee38",
   "metadata": {},
   "outputs": [
    {
     "name": "stdout",
     "output_type": "stream",
     "text": [
      "Number of rows are:  150\n",
      "Number of columns are:  5\n"
     ]
    }
   ],
   "source": [
    "# Dataset Rows & Columns count\n",
    "# Checking number of rows and columns of the dataset using shape\n",
    "print(\"Number of rows are: \",df.shape[0])\n",
    "print(\"Number of columns are: \",df.shape[1])"
   ]
  },
  {
   "cell_type": "code",
   "execution_count": 4,
   "id": "004758be-8cd2-44a6-aded-e4be9f88f854",
   "metadata": {},
   "outputs": [
    {
     "name": "stdout",
     "output_type": "stream",
     "text": [
      "<class 'pandas.core.frame.DataFrame'>\n",
      "RangeIndex: 150 entries, 0 to 149\n",
      "Data columns (total 5 columns):\n",
      " #   Column             Non-Null Count  Dtype   \n",
      "---  ------             --------------  -----   \n",
      " 0   sepal length (cm)  150 non-null    float64 \n",
      " 1   sepal width (cm)   150 non-null    float64 \n",
      " 2   petal length (cm)  150 non-null    float64 \n",
      " 3   petal width (cm)   150 non-null    float64 \n",
      " 4   Species            150 non-null    category\n",
      "dtypes: category(1), float64(4)\n",
      "memory usage: 5.1 KB\n"
     ]
    }
   ],
   "source": [
    "#Dataset info\n",
    "df.info()"
   ]
  },
  {
   "cell_type": "code",
   "execution_count": 5,
   "id": "fecac5ac-1480-4ba7-8e8a-4e1f1f6418cf",
   "metadata": {},
   "outputs": [
    {
     "data": {
      "text/html": [
       "<div>\n",
       "<style scoped>\n",
       "    .dataframe tbody tr th:only-of-type {\n",
       "        vertical-align: middle;\n",
       "    }\n",
       "\n",
       "    .dataframe tbody tr th {\n",
       "        vertical-align: top;\n",
       "    }\n",
       "\n",
       "    .dataframe thead th {\n",
       "        text-align: right;\n",
       "    }\n",
       "</style>\n",
       "<table border=\"1\" class=\"dataframe\">\n",
       "  <thead>\n",
       "    <tr style=\"text-align: right;\">\n",
       "      <th></th>\n",
       "      <th>sepal length (cm)</th>\n",
       "      <th>sepal width (cm)</th>\n",
       "      <th>petal length (cm)</th>\n",
       "      <th>petal width (cm)</th>\n",
       "    </tr>\n",
       "  </thead>\n",
       "  <tbody>\n",
       "    <tr>\n",
       "      <th>count</th>\n",
       "      <td>150.000000</td>\n",
       "      <td>150.000000</td>\n",
       "      <td>150.000000</td>\n",
       "      <td>150.000000</td>\n",
       "    </tr>\n",
       "    <tr>\n",
       "      <th>mean</th>\n",
       "      <td>5.843333</td>\n",
       "      <td>3.057333</td>\n",
       "      <td>3.758000</td>\n",
       "      <td>1.199333</td>\n",
       "    </tr>\n",
       "    <tr>\n",
       "      <th>std</th>\n",
       "      <td>0.828066</td>\n",
       "      <td>0.435866</td>\n",
       "      <td>1.765298</td>\n",
       "      <td>0.762238</td>\n",
       "    </tr>\n",
       "    <tr>\n",
       "      <th>min</th>\n",
       "      <td>4.300000</td>\n",
       "      <td>2.000000</td>\n",
       "      <td>1.000000</td>\n",
       "      <td>0.100000</td>\n",
       "    </tr>\n",
       "    <tr>\n",
       "      <th>25%</th>\n",
       "      <td>5.100000</td>\n",
       "      <td>2.800000</td>\n",
       "      <td>1.600000</td>\n",
       "      <td>0.300000</td>\n",
       "    </tr>\n",
       "    <tr>\n",
       "      <th>50%</th>\n",
       "      <td>5.800000</td>\n",
       "      <td>3.000000</td>\n",
       "      <td>4.350000</td>\n",
       "      <td>1.300000</td>\n",
       "    </tr>\n",
       "    <tr>\n",
       "      <th>75%</th>\n",
       "      <td>6.400000</td>\n",
       "      <td>3.300000</td>\n",
       "      <td>5.100000</td>\n",
       "      <td>1.800000</td>\n",
       "    </tr>\n",
       "    <tr>\n",
       "      <th>max</th>\n",
       "      <td>7.900000</td>\n",
       "      <td>4.400000</td>\n",
       "      <td>6.900000</td>\n",
       "      <td>2.500000</td>\n",
       "    </tr>\n",
       "  </tbody>\n",
       "</table>\n",
       "</div>"
      ],
      "text/plain": [
       "       sepal length (cm)  sepal width (cm)  petal length (cm)  \\\n",
       "count         150.000000        150.000000         150.000000   \n",
       "mean            5.843333          3.057333           3.758000   \n",
       "std             0.828066          0.435866           1.765298   \n",
       "min             4.300000          2.000000           1.000000   \n",
       "25%             5.100000          2.800000           1.600000   \n",
       "50%             5.800000          3.000000           4.350000   \n",
       "75%             6.400000          3.300000           5.100000   \n",
       "max             7.900000          4.400000           6.900000   \n",
       "\n",
       "       petal width (cm)  \n",
       "count        150.000000  \n",
       "mean           1.199333  \n",
       "std            0.762238  \n",
       "min            0.100000  \n",
       "25%            0.300000  \n",
       "50%            1.300000  \n",
       "75%            1.800000  \n",
       "max            2.500000  "
      ]
     },
     "execution_count": 5,
     "metadata": {},
     "output_type": "execute_result"
    }
   ],
   "source": [
    "df.describe()"
   ]
  },
  {
   "cell_type": "code",
   "execution_count": 6,
   "id": "fc958284-d513-433e-9600-9a31ee7c162f",
   "metadata": {},
   "outputs": [
    {
     "name": "stdout",
     "output_type": "stream",
     "text": [
      "number of duplicated rows are 1\n"
     ]
    },
    {
     "data": {
      "text/plain": [
       "sepal length (cm)    0\n",
       "sepal width (cm)     0\n",
       "petal length (cm)    0\n",
       "petal width (cm)     0\n",
       "Species              0\n",
       "dtype: int64"
      ]
     },
     "execution_count": 6,
     "metadata": {},
     "output_type": "execute_result"
    }
   ],
   "source": [
    "# Dataset Duplicate Value Count\n",
    "dup = df.duplicated().sum()\n",
    "print(f'number of duplicated rows are {dup}')\n",
    "\n",
    "# Missing Values/Null Values Count\n",
    "df.isnull().sum()"
   ]
  },
  {
   "cell_type": "code",
   "execution_count": 7,
   "id": "b88fdf8d-b1b0-4983-b334-e43fabe39872",
   "metadata": {},
   "outputs": [
    {
     "name": "stdout",
     "output_type": "stream",
     "text": [
      "Number of duplicated rows after removal: 0\n"
     ]
    }
   ],
   "source": [
    "# Remove the duplicate row\n",
    "df = df.drop_duplicates()\n",
    "\n",
    "# Verify the change by checking the number of duplicated rows\n",
    "print(f\"Number of duplicated rows after removal: {df.duplicated().sum()}\")\n"
   ]
  },
  {
   "cell_type": "markdown",
   "id": "6f1bcf37-8258-4d97-8692-2c46158a6aad",
   "metadata": {},
   "source": [
    "# Understanding the features"
   ]
  },
  {
   "cell_type": "code",
   "execution_count": 8,
   "id": "c9350f8d-6b43-48fe-8981-81b197e4c8d9",
   "metadata": {},
   "outputs": [
    {
     "data": {
      "text/plain": [
       "Index(['sepal length (cm)', 'sepal width (cm)', 'petal length (cm)',\n",
       "       'petal width (cm)', 'Species'],\n",
       "      dtype='object')"
      ]
     },
     "execution_count": 8,
     "metadata": {},
     "output_type": "execute_result"
    }
   ],
   "source": [
    "# Dataset Columns\n",
    "df.columns"
   ]
  },
  {
   "cell_type": "code",
   "execution_count": 9,
   "id": "671c62cf-d182-41eb-9936-4a97a33a44f3",
   "metadata": {},
   "outputs": [
    {
     "data": {
      "image/png": "[encoded data removed]",
      "text/plain": [
       "<Figure size 800x600 with 4 Axes>"
      ]
     },
     "metadata": {},
     "output_type": "display_data"
    }
   ],
   "source": [
    "# Create a 2x2 grid of subplots\n",
    "plt.figure(figsize=(8, 6))\n",
    "plt.suptitle('Distribution of Iris Flower Measurements', fontsize=14)\n",
    "\n",
    "# Sepal Length Distribution\n",
    "plt.subplot(2, 2, 1)  # Subplot 1 (Top-Left)\n",
    "plt.hist(df['sepal length (cm)'])\n",
    "plt.title('Sepal Length Distribution')\n",
    "\n",
    "# Sepal Width Distribution\n",
    "plt.subplot(2, 2, 2)  # Subplot 2 (Top-Right)\n",
    "plt.hist(df['sepal width (cm)'])\n",
    "plt.title('Sepal Width Distribution')\n",
    "\n",
    "# Petal Length Distribution\n",
    "plt.subplot(2, 2, 3)  # Subplot 3 (Bottom-Left)\n",
    "plt.hist(df['petal length (cm)'])\n",
    "plt.title('Petal Length Distribution')\n",
    "\n",
    "# Petal Width Distribution\n",
    "plt.subplot(2, 2, 4)  # Subplot 4 (Bottom-Right)\n",
    "plt.hist(df['petal width (cm)'])\n",
    "plt.title('Petal Width Distribution')\n",
    "\n",
    "# Adjust layout for better spacing and show the plot\n",
    "plt.tight_layout()  \n",
    "plt.show()"
   ]
  },
  {
   "cell_type": "code",
   "execution_count": 10,
   "id": "25486846-f00e-4e1b-8aa7-5f7a711e099d",
   "metadata": {},
   "outputs": [],
   "source": [
    "# Feature EngineerEngineering "
   ]
  },
  {
   "cell_type": "code",
   "execution_count": 13,
   "id": "bf5f7c0f-dbd7-4587-a0f7-38137d7a9268",
   "metadata": {},
   "outputs": [
    {
     "name": "stdout",
     "output_type": "stream",
     "text": [
      "Encoded Species Values:\n",
      "[0 1 2]\n"
     ]
    }
   ],
   "source": [
    "# Encode the categorical 'Species' column\n",
    "le = LabelEncoder()\n",
    "df['Species'] = le.fit_transform(df['Species'])\n",
    "\n",
    "# Check unique values in 'Species'\n",
    "unique_species = df['Species'].unique()\n",
    "\n",
    "# Display the unique encoded values\n",
    "print(\"Encoded Species Values:\")\n",
    "print(unique_species)  # Expected: [0, 1, 2]\n"
   ]
  },
  {
   "cell_type": "code",
   "execution_count": 14,
   "id": "1c807d9b-1b5c-40ce-a05b-45666ad5f559",
   "metadata": {},
   "outputs": [],
   "source": [
    "# Defining the X and y\n",
    "x=df.drop(columns=['Species'], axis=1)\n",
    "y=df['Species']"
   ]
  },
  {
   "cell_type": "code",
   "execution_count": 15,
   "id": "241e7720-b74b-4cbd-9d2c-c5d0c100d6a2",
   "metadata": {},
   "outputs": [],
   "source": [
    "# Splitting the data to train and test\n",
    "x_train,x_test,y_train,y_test=train_test_split(x,y, test_size=0.3)"
   ]
  },
  {
   "cell_type": "code",
   "execution_count": 16,
   "id": "211a815a-65e7-4c4c-ba6b-f615c44fca17",
   "metadata": {},
   "outputs": [
    {
     "data": {
      "text/plain": [
       "Species\n",
       "1    36\n",
       "0    35\n",
       "2    33\n",
       "Name: count, dtype: int64"
      ]
     },
     "execution_count": 16,
     "metadata": {},
     "output_type": "execute_result"
    }
   ],
   "source": [
    "# Checking the train distribution of dependent variable\n",
    "y_train.value_counts()"
   ]
  },
  {
   "cell_type": "code",
   "execution_count": 17,
   "id": "ade11212-023c-4fbe-b3c4-cebda7443896",
   "metadata": {},
   "outputs": [],
   "source": [
    "\n",
    "def evaluate_model(x_train, x_test, y_train, y_test):\n",
    "    # Initialize the RandomForestClassifier\n",
    "    model = RandomForestClassifier(random_state=0)\n",
    "\n",
    "    # Fit the model to the training data\n",
    "    model.fit(x_train, y_train)\n",
    "\n",
    "    # Make predictions on the test data\n",
    "    y_pred_train = model.predict(x_train)\n",
    "    y_pred_test = model.predict(x_test)\n",
    "\n",
    "    # Calculate confusion matrix for train and test data\n",
    "    cm_train = confusion_matrix(y_train, y_pred_train)\n",
    "    cm_test = confusion_matrix(y_test, y_pred_test)\n",
    "\n",
    "    # Plot confusion matrices\n",
    "    fig, ax = plt.subplots(1, 2, figsize=(11,4))\n",
    "    sns.heatmap(cm_train, annot=True, xticklabels=['Class 0', 'Class 1', 'Class 2'], yticklabels=['Class 0', 'Class 1', 'Class 2'], cmap=\"Oranges\", fmt='.4g', ax=ax[0])\n",
    "    ax[0].set_xlabel(\"Predicted Label\")\n",
    "    ax[0].set_ylabel(\"True Label\")\n",
    "    ax[0].set_title(\"Train Confusion Matrix\")\n",
    "\n",
    "    sns.heatmap(cm_test, annot=True, xticklabels=['Class 0', 'Class 1', 'Class 2'], yticklabels=['Class 0', 'Class 1', 'Class 2'], cmap=\"Oranges\", fmt='.4g', ax=ax[1])\n",
    "    ax[1].set_xlabel(\"Predicted Label\")\n",
    "    ax[1].set_ylabel(\"True Label\")\n",
    "    ax[1].set_title(\"Test Confusion Matrix\")\n",
    "\n",
    "    plt.tight_layout()\n",
    "    plt.show()\n",
    "\n",
    "    # Calculate and print classification reports\n",
    "    cr_train = classification_report(y_train, y_pred_train, output_dict=True)\n",
    "    cr_test = classification_report(y_test, y_pred_test, output_dict=True)\n",
    "    \n",
    "    print(\"\\nTrain Classification Report:\")\n",
    "    crt = pd.DataFrame(cr_train).T\n",
    "    print(crt.to_markdown())\n",
    "    \n",
    "    print(\"\\nTest Classification Report:\")\n",
    "    crt2 = pd.DataFrame(cr_test).T\n",
    "    print(crt2.to_markdown())\n",
    "\n",
    "    # Extracting metrics\n",
    "    precision_train = cr_train['weighted avg']['precision']\n",
    "    precision_test = cr_test['weighted avg']['precision']\n",
    "\n",
    "    recall_train = cr_train['weighted avg']['recall']\n",
    "    recall_test = cr_test['weighted avg']['recall']\n",
    "\n",
    "    acc_train = accuracy_score(y_train, y_pred_train)\n",
    "    acc_test = accuracy_score(y_test, y_pred_test)\n",
    "\n",
    "    F1_train = cr_train['weighted avg']['f1-score']\n",
    "    F1_test = cr_test['weighted avg']['f1-score']\n",
    "\n",
    "    # Returning scores\n",
    "    model_score = [precision_train, precision_test, recall_train, recall_test, acc_train, acc_test, F1_train, F1_test]\n",
    "    return model_score"
   ]
  },
  {
   "cell_type": "code",
   "execution_count": 18,
   "id": "4130cf51-b025-4769-80c3-5fc06af5a84e",
   "metadata": {},
   "outputs": [
    {
     "data": {
      "image/png": "[encoded data removed]",
      "text/plain": [
       "<Figure size 1100x400 with 4 Axes>"
      ]
     },
     "metadata": {},
     "output_type": "display_data"
    },
    {
     "name": "stdout",
     "output_type": "stream",
     "text": [
      "\n",
      "Train Classification Report:\n",
      "|              |   precision |   recall |   f1-score |   support |\n",
      "|:-------------|------------:|---------:|-----------:|----------:|\n",
      "| 0            |           1 |        1 |          1 |        35 |\n",
      "| 1            |           1 |        1 |          1 |        36 |\n",
      "| 2            |           1 |        1 |          1 |        33 |\n",
      "| accuracy     |           1 |        1 |          1 |         1 |\n",
      "| macro avg    |           1 |        1 |          1 |       104 |\n",
      "| weighted avg |           1 |        1 |          1 |       104 |\n",
      "\n",
      "Test Classification Report:\n",
      "|              |   precision |   recall |   f1-score |   support |\n",
      "|:-------------|------------:|---------:|-----------:|----------:|\n",
      "| 0            |    1        | 1        |   1        | 15        |\n",
      "| 1            |    0.8125   | 0.928571 |   0.866667 | 14        |\n",
      "| 2            |    0.928571 | 0.8125   |   0.866667 | 16        |\n",
      "| accuracy     |    0.911111 | 0.911111 |   0.911111 |  0.911111 |\n",
      "| macro avg    |    0.91369  | 0.91369  |   0.911111 | 45        |\n",
      "| weighted avg |    0.91627  | 0.911111 |   0.911111 | 45        |\n",
      "\n",
      "Model Scores (Precision, Recall, Accuracy, F1):\n",
      "[1.0, 0.9162698412698413, 1.0, 0.9111111111111111, 1.0, 0.9111111111111111, 1.0, 0.9111111111111111]\n"
     ]
    }
   ],
   "source": [
    "# Call the function\n",
    "model_scores = evaluate_model(x_train, x_test, y_train, y_test)\n",
    "\n",
    "# Print the evaluation metrics\n",
    "print(\"\\nModel Scores (Precision, Recall, Accuracy, F1):\")\n",
    "print(model_scores)"
   ]
  },
  {
   "cell_type": "markdown",
   "id": "c56cee71-12c2-4d73-bf90-a0ab8427319d",
   "metadata": {},
   "source": [
    "# Hyperparameter Tunning "
   ]
  },
  {
   "cell_type": "code",
   "execution_count": 19,
   "id": "25ab7e98-503a-4781-ad55-6c5296524880",
   "metadata": {},
   "outputs": [
    {
     "name": "stdout",
     "output_type": "stream",
     "text": [
      "Cross-validation scores: [0.9047619  1.         0.95238095 1.         1.        ]\n",
      "Mean cross-validation score: 0.9714285714285713\n",
      "Train accuracy: 0.9807692307692307\n",
      "Test accuracy: 0.9111111111111111\n"
     ]
    }
   ],
   "source": [
    "rf_model = RandomForestClassifier(\n",
    "    random_state=0, \n",
    "    max_depth=10,  # Limit the depth of trees\n",
    "    min_samples_split=5,  # Require more samples to split nodes\n",
    "    min_samples_leaf=4,  # Require more samples at leaves\n",
    "    max_features='sqrt',  # Limit number of features used for splits\n",
    "    n_estimators=100,  # Number of trees\n",
    "    bootstrap=True,  # Bootstrap sampling\n",
    "    oob_score=True  # Use out-of-bag samples for validation\n",
    ")\n",
    "\n",
    "rf_model.fit(x_train, y_train)\n",
    "\n",
    "# Cross-validation scores\n",
    "cv_scores = cross_val_score(rf_model, x_train, y_train, cv=5)\n",
    "print(f'Cross-validation scores: {cv_scores}')\n",
    "print(f'Mean cross-validation score: {cv_scores.mean()}')\n",
    "\n",
    "# Calculate accuracy on the training and test data\n",
    "train_accuracy = rf_model.score(x_train, y_train)\n",
    "test_accuracy = rf_model.score(x_test, y_test)\n",
    "\n",
    "print(f'Train accuracy: {train_accuracy}')\n",
    "print(f'Test accuracy: {test_accuracy}')"
   ]
  },
  {
   "cell_type": "markdown",
   "id": "c011980b-32b0-47c9-8bb7-ff077c27b09c",
   "metadata": {},
   "source": [
    "# Pickling the file "
   ]
  },
  {
   "cell_type": "code",
   "execution_count": 20,
   "id": "9821d7f3-43ac-4009-a4e1-17771d60a7f7",
   "metadata": {},
   "outputs": [
    {
     "name": "stdout",
     "output_type": "stream",
     "text": [
      "Model saved to 'random_forest_model.pkl'\n"
     ]
    }
   ],
   "source": [
    "with open('random_forest_model.pkl', 'wb') as model_file:\n",
    "    pickle.dump(rf_model, model_file)\n",
    "\n",
    "print(\"Model saved to 'random_forest_model.pkl'\")"
   ]
  }
 ],
 "metadata": {
  "kernelspec": {
   "display_name": "Python 3 (ipykernel)",
   "language": "python",
   "name": "python3"
  },
  "language_info": {
   "codemirror_mode": {
    "name": "ipython",
    "version": 3
   },
   "file_extension": ".py",
   "mimetype": "text/x-python",
   "name": "python",
   "nbconvert_exporter": "python",
   "pygments_lexer": "ipython3",
   "version": "3.9.19"
  }
 },
 "nbformat": 4,
 "nbformat_minor": 5
}
